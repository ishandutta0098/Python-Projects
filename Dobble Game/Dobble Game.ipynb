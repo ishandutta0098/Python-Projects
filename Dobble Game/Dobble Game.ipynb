{
 "cells": [
  {
   "cell_type": "markdown",
   "metadata": {},
   "source": [
    "# Dobble Game"
   ]
  },
  {
   "cell_type": "markdown",
   "metadata": {},
   "source": [
    "## Description\n",
    "\n",
    "Dobble is a game in which players have to find symbols in common between two cards. It was the UK’s best-selling game in 2018 and 2019."
   ]
  },
  {
   "cell_type": "markdown",
   "metadata": {},
   "source": [
    "## Rules \n",
    "\n",
    "1. Only alphabets can be used as symbols.\n",
    "2. Definite number of symbols can be used.\n",
    "3. Only 1 common symbol is permissible"
   ]
  },
  {
   "cell_type": "code",
   "execution_count": 11,
   "metadata": {},
   "outputs": [],
   "source": [
    "# Importing Libraries\n",
    "\n",
    "import string\n",
    "import random"
   ]
  },
  {
   "cell_type": "code",
   "execution_count": 12,
   "metadata": {},
   "outputs": [],
   "source": [
    "# Declaring list of symbols \n",
    "\n",
    "symbols=[]\n",
    "symbols=list(string.ascii_letters)\n",
    "\n",
    "# Putting value of all elements as 0\n",
    "\n",
    "card1=[0]*5\n",
    "card2=[0]*5"
   ]
  },
  {
   "cell_type": "code",
   "execution_count": 13,
   "metadata": {},
   "outputs": [
    {
     "name": "stdout",
     "output_type": "stream",
     "text": [
      "2\n",
      "4\n"
     ]
    }
   ],
   "source": [
    "# Generating random symbol positions\n",
    "\n",
    "pos1=random.randint(0,4)\n",
    "pos2=random.randint(0,4)\n",
    "\n",
    "print(pos1)\n",
    "print(pos2)"
   ]
  },
  {
   "cell_type": "code",
   "execution_count": 14,
   "metadata": {},
   "outputs": [],
   "source": [
    "# Selecting the symbol and removing it from the list\n",
    "\n",
    "samesymbol=random.choice(symbols)\n",
    "symbols.remove(samesymbol)"
   ]
  },
  {
   "cell_type": "code",
   "execution_count": 15,
   "metadata": {},
   "outputs": [],
   "source": [
    "if pos1==pos2:\n",
    "    card2[pos1]=samesymbol\n",
    "    card1[pos1]=samesymbol\n",
    "else:\n",
    "    card1[pos1]=samesymbol\n",
    "    card2[pos2]=samesymbol\n",
    "    card1[pos2]=random.choice(symbols)\n",
    "    symbols.remove(card1[pos2])\n",
    "    card2[pos1]=random.choice(symbols)\n",
    "    symbols.remove(card2[pos1])"
   ]
  },
  {
   "cell_type": "code",
   "execution_count": 16,
   "metadata": {},
   "outputs": [],
   "source": [
    "i=0\n",
    "\n",
    "while(i<5):\n",
    "    if i!=pos1 and i!=pos2 :\n",
    "        alphabet1=random.choice(symbols)\n",
    "        symbols.remove(alphabet1)\n",
    "        alphabet2=random.choice(symbols)\n",
    "        symbols.remove(alphabet2)\n",
    "        card1[i]=alphabet1\n",
    "        card2[i]=alphabet2\n",
    "    i+=1"
   ]
  },
  {
   "cell_type": "code",
   "execution_count": 21,
   "metadata": {},
   "outputs": [],
   "source": [
    "# Function to check answer\n",
    "\n",
    "def check(ch) :\n",
    "    if ch==samesymbol :\n",
    "        print(\"Correct Answer!\")\n",
    "    else:\n",
    "        print(\"Incorrect Answer, Please try again!\")\n",
    "    "
   ]
  },
  {
   "cell_type": "code",
   "execution_count": 17,
   "metadata": {},
   "outputs": [
    {
     "name": "stdout",
     "output_type": "stream",
     "text": [
      "['v', 'o', 'M', 'd', 'a']\n",
      "['n', 'I', 'X', 'F', 'M']\n"
     ]
    }
   ],
   "source": [
    "print(card1)\n",
    "print(card2)"
   ]
  },
  {
   "cell_type": "code",
   "execution_count": 23,
   "metadata": {},
   "outputs": [
    {
     "name": "stdout",
     "output_type": "stream",
     "text": [
      "Spot the similar symbol : o\n",
      "Incorrect Answer, Please try again!\n"
     ]
    }
   ],
   "source": [
    "ch=input(\"Spot the similar symbol : \")\n",
    "check(ch)"
   ]
  },
  {
   "cell_type": "code",
   "execution_count": 24,
   "metadata": {},
   "outputs": [
    {
     "name": "stdout",
     "output_type": "stream",
     "text": [
      "Spot the similar symbol : M\n",
      "Correct Answer!\n"
     ]
    }
   ],
   "source": [
    "ch=input(\"Spot the similar symbol : \")\n",
    "check(ch)"
   ]
  }
 ],
 "metadata": {
  "kernelspec": {
   "display_name": "Python 3",
   "language": "python",
   "name": "python3"
  },
  "language_info": {
   "codemirror_mode": {
    "name": "ipython",
    "version": 3
   },
   "file_extension": ".py",
   "mimetype": "text/x-python",
   "name": "python",
   "nbconvert_exporter": "python",
   "pygments_lexer": "ipython3",
   "version": "3.7.4"
  }
 },
 "nbformat": 4,
 "nbformat_minor": 2
}
