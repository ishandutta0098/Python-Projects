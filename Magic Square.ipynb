{
 "cells": [
  {
   "cell_type": "markdown",
   "metadata": {},
   "source": [
    "# Magic Square "
   ]
  },
  {
   "cell_type": "markdown",
   "metadata": {},
   "source": [
    "## Description\n",
    "\n",
    "In recreational mathematics and combinatorial design, a magic square is a n x n square grid (where n is the number of cells on each side) filled with distinct positive integers in the range 1,2,...,n^2 such that each cell contains a different integer and the sum of the integers in each row, column and diagonal is equal.The sum is called the magic constant or magic sum of the magic square. A square grid with n cells on each side is said to have order n."
   ]
  },
  {
   "cell_type": "code",
   "execution_count": 3,
   "metadata": {},
   "outputs": [],
   "source": [
    "# Function Definition\n",
    "\n",
    "def magic_square(n):\n",
    "    magicSquare=[]\n",
    "    \n",
    "    for i in range(n):\n",
    "        l=[]\n",
    "        for j in range(n):\n",
    "            l.append(0)\n",
    "        magicSquare.append(l)\n",
    "    \n",
    "    # Initial Position\n",
    "    i=n//2\n",
    "    j=n-1\n",
    "    \n",
    "    num=n*n\n",
    "    count=1\n",
    "    \n",
    "    while(count<=num):\n",
    "        if(i==-1 and j==n):\n",
    "            j=n-2\n",
    "            i=0\n",
    "        else:\n",
    "            if j==n :\n",
    "                j=0\n",
    "            if i<0 :\n",
    "                i=n-1\n",
    "        if magicSquare[i][j]!=0 :\n",
    "            j=j-2\n",
    "            i=i+1\n",
    "            continue\n",
    "        else:\n",
    "            magicSquare[i][j]=count\n",
    "            count+=1\n",
    "            i=i-1\n",
    "            j=j+1\n",
    "    for i in range(n):\n",
    "        for j in range(n):\n",
    "            print(magicSquare[i][j],end=\" \")\n",
    "        print()\n",
    "    print(\"The sum of each row/column/diagonal = \"+str(n*(n**2+1)/2))"
   ]
  },
  {
   "cell_type": "code",
   "execution_count": 4,
   "metadata": {},
   "outputs": [
    {
     "name": "stdout",
     "output_type": "stream",
     "text": [
      "2 7 6 \n",
      "9 5 1 \n",
      "4 3 8 \n",
      "The sum of each row/column/diagonal = 15.0\n"
     ]
    }
   ],
   "source": [
    "magic_square(3)"
   ]
  }
 ],
 "metadata": {
  "kernelspec": {
   "display_name": "Python 3",
   "language": "python",
   "name": "python3"
  },
  "language_info": {
   "codemirror_mode": {
    "name": "ipython",
    "version": 3
   },
   "file_extension": ".py",
   "mimetype": "text/x-python",
   "name": "python",
   "nbconvert_exporter": "python",
   "pygments_lexer": "ipython3",
   "version": "3.7.4"
  }
 },
 "nbformat": 4,
 "nbformat_minor": 2
}
