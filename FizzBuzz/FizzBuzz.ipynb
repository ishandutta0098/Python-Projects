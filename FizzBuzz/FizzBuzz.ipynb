{
 "cells": [
  {
   "cell_type": "markdown",
   "metadata": {},
   "source": [
    "# Fizzbuzz"
   ]
  },
  {
   "cell_type": "markdown",
   "metadata": {},
   "source": [
    "## Description \n",
    "\n",
    "Fizz buzz is a group word game and a simple programming task. Players take turns to count incrementally, replacing any number divisible by three with the word \"fizz\", any number divisible by five with the word \"buzz\"and and any number divisible by both three and five by fizzbuzz. "
   ]
  },
  {
   "cell_type": "code",
   "execution_count": 10,
   "metadata": {},
   "outputs": [],
   "source": [
    "# Defining Function\n",
    "\n",
    "def fizzBuzz(r):\n",
    "    for i in range(1,r):\n",
    "        if(i%3==0 and i%5==0):          # Condition for FizzBuzz\n",
    "            print(str(i)+\" = FizzBuzz\")\n",
    "        elif (i%3==0):                  # Condition for Fizz\n",
    "                print(str(i)+\" = Fizz\")\n",
    "        elif (i%5==0):                  # Condition for Buzz\n",
    "                print(str(i)+\" = Buzz\")    \n",
    "        else :\n",
    "            print(str(i))"
   ]
  },
  {
   "cell_type": "code",
   "execution_count": 11,
   "metadata": {},
   "outputs": [
    {
     "name": "stdout",
     "output_type": "stream",
     "text": [
      "1\n",
      "2\n",
      "3 = Fizz\n",
      "4\n",
      "5 = Buzz\n",
      "6 = Fizz\n",
      "7\n",
      "8\n",
      "9 = Fizz\n",
      "10 = Buzz\n",
      "11\n",
      "12 = Fizz\n",
      "13\n",
      "14\n",
      "15 = FizzBuzz\n"
     ]
    }
   ],
   "source": [
    "# Function Call from 1 to 15\n",
    "\n",
    "fizzBuzz(16)"
   ]
  }
 ],
 "metadata": {
  "kernelspec": {
   "display_name": "Python 3",
   "language": "python",
   "name": "python3"
  },
  "language_info": {
   "codemirror_mode": {
    "name": "ipython",
    "version": 3
   },
   "file_extension": ".py",
   "mimetype": "text/x-python",
   "name": "python",
   "nbconvert_exporter": "python",
   "pygments_lexer": "ipython3",
   "version": "3.7.4"
  }
 },
 "nbformat": 4,
 "nbformat_minor": 2
}
